{
 "cells": [
  {
   "cell_type": "code",
   "execution_count": null,
   "id": "81382919",
   "metadata": {},
   "outputs": [],
   "source": [
    "from sympy import *\n",
    "\n",
    "a = Symbol(\"a\")\n",
    "b = Symbol(\"b\")\n",
    "c = Symbol(\"c\")\n",
    "\n",
    "\n",
    "x = eval(input(\"Введите функцию: \"))\n",
    "av = float(input(\"А: \"))\n",
    "a_delta = float(input(\"▲А: \"))\n",
    "bv = float(input(\"B: \"))\n",
    "b_delta = float(input(\"▲B: \"))\n",
    "cv = float(input(\"C: \"))\n",
    "c_delta = float(input(\"▲C: \"))\n",
    "\n",
    "\n",
    "delta_a = x.diff(a) #производная функции по a\n",
    "delta_b = x.diff(b) #производная функции по b\n",
    "delta_c = x.diff(c) #производная функции по c\n",
    "\n",
    "aa = abs(delta_a.subs({a:av, b:bv, c:cv}))\n",
    "bb = abs(delta_b.subs({a:av, b:bv, c:cv}))\n",
    "cc = abs(delta_c.subs({a:av, b:bv, c:cv}))\n",
    "\n",
    "pred_pogr = aa*a_delta + bb*b_delta + cc*c_delta\n",
    "\n",
    "x_verh = x.subs({a:av+a_delta, b:bv+b_delta, c:cv+c_delta})\n",
    "x_niz = x.subs({a:av-a_delta, b:bv-b_delta, c:cv-c_delta})\n",
    "x_sred = x.subs({a:av, b:bv, c:cv})\n",
    "abs_pogr = (x_verh-x_niz)/2\n",
    "\n",
    "print(\"Верхнее значение: \", x_verh)\n",
    "print(\"Нижнее значение: \", x_niz)\n",
    "print(\"Значение: \", x_sred)\n",
    "print(\"Предельная абсолютная погрешность: \", pred_pogr)\n",
    "print(\"Абсолютная погрешность: \", abs_pogr)\n",
    "print(\"Относительная погрешность: \", abs_pogr/x_sred)\n",
    "print(\"Предельная относительная погрешность: \", pred_pogr/x_sred)"
   ]
  }
 ],
 "metadata": {
  "kernelspec": {
   "display_name": "Python 3 (ipykernel)",
   "language": "python",
   "name": "python3"
  },
  "language_info": {
   "codemirror_mode": {
    "name": "ipython",
    "version": 3
   },
   "file_extension": ".py",
   "mimetype": "text/x-python",
   "name": "python",
   "nbconvert_exporter": "python",
   "pygments_lexer": "ipython3",
   "version": "3.11.1"
  }
 },
 "nbformat": 4,
 "nbformat_minor": 5
}
